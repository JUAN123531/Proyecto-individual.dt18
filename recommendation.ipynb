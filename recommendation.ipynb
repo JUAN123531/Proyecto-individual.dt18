{
 "cells": [
  {
   "cell_type": "code",
   "execution_count": 1,
   "metadata": {},
   "outputs": [],
   "source": [
    "import pandas as pd \n",
    "from sklearn.feature_extraction.text import CountVectorizer # Importamos nuestro CountVectorizer de sklearn\n",
    "from sklearn.metrics.pairwise import cosine_similarity # Y nuestro coseno de simil\n",
    "games_model = pd.read_parquet(r'./Data/endpoint6.parquet.gzip')\n"
   ]
  },
  {
   "cell_type": "code",
   "execution_count": 3,
   "metadata": {},
   "outputs": [],
   "source": [
    "generos_a_excluir = [ # Creamos una lista de los generos menos vistos en el dataset, esto lo hacemos para reducir el tamaño\n",
    "                      # del dataset por motivos de rendimiento, aunque por el otro lado perdemos precision en nuestro modelo\n",
    " 'Simulation',\n",
    " 'Strategy',\n",
    " 'Free to Play',\n",
    " 'RPG',\n",
    " 'Sports',\n",
    " '[]',\n",
    " 'Racing',\n",
    " 'Early Access',\n",
    " 'Massively Multiplayer',\n",
    " 'Animation &amp; Modeling',\n",
    " 'Video Production',\n",
    " 'Utilities',\n",
    " 'Web Publishing',\n",
    " 'Education',\n",
    " 'Software Training',\n",
    " 'Design &amp; Illustration',\n",
    " 'Audio Production',\n",
    " 'Photo Editing',\n",
    " 'Accounting']\n"
   ]
  },
  {
   "cell_type": "code",
   "execution_count": 4,
   "metadata": {},
   "outputs": [],
   "source": [
    "for i in generos_a_excluir:\n",
    "    games_model = games_model[games_model['genres'] != i] # Eliminamos los juegos que sean de esos generos\n"
   ]
  },
  {
   "cell_type": "code",
   "execution_count": 5,
   "metadata": {},
   "outputs": [],
   "source": [
    "games_model.dropna(inplace=True) # Eliminamos valores faltantes\n",
    "co = CountVectorizer(max_features=9000, stop_words='english') # Creamos nuestro contador de vectores con un maximo de 7000 regs\n",
    "                                                              # Tambien aprovechamos y por las dudas, eliminamos nuestras stopwords\n"
   ]
  },
  {
   "cell_type": "code",
   "execution_count": 6,
   "metadata": {},
   "outputs": [],
   "source": [
    "vector = co.fit_transform(games_model['genres']).toarray() # Creamos nuestro vector, entrenandolo con nuestra principal variable predictora, generos\n",
    "\n"
   ]
  },
  {
   "cell_type": "code",
   "execution_count": 7,
   "metadata": {},
   "outputs": [
    {
     "data": {
      "text/plain": [
       "array(['action', 'adventure', 'casual', 'indie'], dtype=object)"
      ]
     },
     "execution_count": 7,
     "metadata": {},
     "output_type": "execute_result"
    }
   ],
   "source": [
    "co.get_feature_names_out() # Extraemos los nombres de los features\n"
   ]
  },
  {
   "cell_type": "code",
   "execution_count": 8,
   "metadata": {},
   "outputs": [],
   "source": [
    "cosine_sim = cosine_similarity(vector)\n"
   ]
  },
  {
   "cell_type": "code",
   "execution_count": 9,
   "metadata": {},
   "outputs": [],
   "source": [
    "games_model.to_parquet(r'./Data/endponint6_with_reco.parquet.gzip', compression='gzip') # Exportamo\n"
   ]
  }
 ],
 "metadata": {
  "kernelspec": {
   "display_name": "Python 3",
   "language": "python",
   "name": "python3"
  },
  "language_info": {
   "codemirror_mode": {
    "name": "ipython",
    "version": 3
   },
   "file_extension": ".py",
   "mimetype": "text/x-python",
   "name": "python",
   "nbconvert_exporter": "python",
   "pygments_lexer": "ipython3",
   "version": "3.11.3"
  }
 },
 "nbformat": 4,
 "nbformat_minor": 2
}
